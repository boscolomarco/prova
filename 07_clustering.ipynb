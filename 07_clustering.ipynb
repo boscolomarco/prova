{
  "cells": [
    {
      "cell_type": "markdown",
      "metadata": {
        "id": "3aAcjz1gOX-5"
      },
      "source": [
        "# Machine Learning LAB 7: CLUSTERING - K-means and DBSCAN\n",
        "\n",
        "Course 2024/25: *F. Chiariotti*\n",
        "\n",
        "\n",
        "bla bla bla\n",
        "\n",
        "The notebook contains some simple tasks about **CLUSTERING**.\n",
        "\n",
        "Complete all the **required code sections**.\n",
        "\n",
        "### IMPORTANT for the exam:\n",
        "\n",
        "The functions you might be required to implement in the exam will have the same signature and parameters as the ones in the labs"
      ]
    },
    {
      "cell_type": "markdown",
      "metadata": {
        "id": "VXEc-S76OX_C"
      },
      "source": [
        "## Image segmentation with k-means\n",
        "\n",
        "In this laboratory we will use the k-means algorithm to cluster a dataset of 3D points. We will apply **K-means** to the problem of image compression and image segmentation. The main idea is to apply k-means to the colors of the pixels of an image to select the k most representative colors. Then, we will replace each pixel color with the closest representative color. This will allow us to reduce the number of colors in the image and compress it. A color is a vector of 3 values (R,G,B) that represent the amount of red, green and blue in the color; this implies that each pixel is a point in a 3D space.\n",
        "\n",
        "In particular you are going to implement the k-means algorithm from scratch and to compare the results with the implementation already present in the sklearn library.\n",
        "\n",
        "In the second part of the laboratory we will use a **linkage-based** clustering algorithm to cluster a dataset of 2D points and compare it with the results obtained with k-means.\n",
        "\n",
        "---"
      ]
    },
    {
      "cell_type": "markdown",
      "metadata": {
        "id": "PJgB9b7hOX_F"
      },
      "source": [
        "## Import all the necessary Python libraries"
      ]
    },
    {
      "cell_type": "code",
      "execution_count": 1,
      "metadata": {
        "id": "LZQQp5jqOX_H"
      },
      "outputs": [],
      "source": [
        "%matplotlib inline\n",
        "\n",
        "import numpy as np\n",
        "import typing as tp\n",
        "import matplotlib.pyplot as plt\n",
        "from sklearn import metrics\n",
        "from sklearn.cluster import KMeans, AgglomerativeClustering\n",
        "from matplotlib import pyplot as plt\n",
        "\n",
        "np.random.seed(20)"
      ]
    },
    {
      "cell_type": "code",
      "source": [
        "with open('credit_card.dat','r') as f:\n",
        "    for line in f:\n",
        "        data=line[0:-4]\n",
        "        res=''\n",
        "        for i in range(0,len(data),6):\n",
        "            res+=chr( int(data[i:i+6],2) )\n",
        "        print(res)\n",
        "    f.close()"
      ],
      "metadata": {
        "colab": {
          "base_uri": "https://localhost:8080/"
        },
        "id": "5l5iKjBKQVs9",
        "outputId": "018e48a3-11fd-4f1e-d02d-cbed36be0510"
      },
      "execution_count": 10,
      "outputs": [
        {
          "output_type": "stream",
          "name": "stdout",
          "text": [
            "7648 5673 3775 2271\u0001\n",
            "3257 8247 3354 2266\u0001\n",
            "2722 0001 4011 6652\u0001\n",
            "0661 3063 3742 3150\u0001\n",
            "0432 1608 1462 4742\u0001\n",
            "5827 2027 8785 7303\u0001\n",
            "5774 8528 2087 1117\u0001\n",
            "8140 1210 6352 2845\u0001\n",
            "5764 1133 7301 7100\u0001\n",
            "6456 1737 4126 6726\u0001\n",
            "1228 8631 7382 0000\u0001\n",
            "7051 0160 5374 3166\u0001\n",
            "0618 3587 1630 6376\u0001\n",
            "1545 5454 7444 5636\u0001\n",
            "6735 3116 3202 6834\u0001\n",
            "7287 5011 1547 8413\u0001\n",
            "7033 2607 3328 4200\u0001\n",
            "2568 5244 1874 5024\u0001\n",
            "1684 2253 7570 7118\u0001\n",
            "0672 2576 0575 6631\u0001\n",
            "6332 8353 8787 1340\u0001\n",
            "1813 3361 1175 4211\u0001\n",
            "2477 6450 8840 2368\u0001\n",
            "5512 3505 2563 1326\u0001\n",
            "3083 7882 0621 0025\u0001\n",
            "4521 5148 8045 0334\u0001\n",
            "7563 3654 8713 5787\u0001\n",
            "8324 2664 0476 5561\u0001\n",
            "0565 2504 7168 3510\u0001\n",
            "5107 5507 1767 0738\u0001\n",
            "2462 1821 2448 1443\u0001\n",
            "2788 0638 6861 6554\u0001\n",
            "5851 5873 5474 0547\u0001\n",
            "0670 1004 4013 2655\u0001\n",
            "5874 5506 3048 0806\u0001\n",
            "2805 5401 8462 1260\u0001\n",
            "5083 8406 6310 1862\u0001\n",
            "1076 1445 3013 2266\u0001\n",
            "8440 4804 4844 5277\u0001\n",
            "4758 6141 0686 1387\u0001\n",
            "7586 0675 0315 2568\u0001\n",
            "2544 1258 7432 5165\u0001\n",
            "3474 5023 4434 5626\u0001\n",
            "1410 0270 0434 5086\u0001\n",
            "7315 4446 1104 4215\u0001\n",
            "0224 7742 8300 0266\u0001\n",
            "0170 2700 3145 0640\u0001\n",
            "2006 2437 8054 1600\u0001\n",
            "8142 4055 1776 0026\u0001\n",
            "3026 7380 1241 1084\u0001\n",
            "\u0001\n"
          ]
        }
      ]
    },
    {
      "cell_type": "markdown",
      "metadata": {
        "id": "v33-7yYAOX_M"
      },
      "source": [
        "---"
      ]
    },
    {
      "cell_type": "code",
      "source": [
        "from google.colab import drive\n",
        "drive.mount('/content/drive')"
      ],
      "metadata": {
        "colab": {
          "base_uri": "https://localhost:8080/"
        },
        "id": "DlkQjks8QqdB",
        "outputId": "c16a1fca-ebfb-424b-c436-4083215337c1"
      },
      "execution_count": 5,
      "outputs": [
        {
          "output_type": "stream",
          "name": "stdout",
          "text": [
            "Mounted at /content/drive\n"
          ]
        }
      ]
    },
    {
      "cell_type": "code",
      "source": [
        "from google.colab import files\n",
        "uploaded = files.upload()"
      ],
      "metadata": {
        "colab": {
          "base_uri": "https://localhost:8080/",
          "height": 49
        },
        "id": "AJbO0FJERJek",
        "outputId": "afa3a1a7-426f-47ca-c67c-7883da4b130c"
      },
      "execution_count": null,
      "outputs": [
        {
          "output_type": "display_data",
          "data": {
            "text/plain": [
              "<IPython.core.display.HTML object>"
            ],
            "text/html": [
              "\n",
              "     <input type=\"file\" id=\"files-0eb4cca1-7a7e-4394-ad23-37cff5e61276\" name=\"files[]\" multiple disabled\n",
              "        style=\"border:none\" />\n",
              "     <output id=\"result-0eb4cca1-7a7e-4394-ad23-37cff5e61276\">\n",
              "      Upload widget is only available when the cell has been executed in the\n",
              "      current browser session. Please rerun this cell to enable.\n",
              "      </output>\n",
              "      <script>// Copyright 2017 Google LLC\n",
              "//\n",
              "// Licensed under the Apache License, Version 2.0 (the \"License\");\n",
              "// you may not use this file except in compliance with the License.\n",
              "// You may obtain a copy of the License at\n",
              "//\n",
              "//      http://www.apache.org/licenses/LICENSE-2.0\n",
              "//\n",
              "// Unless required by applicable law or agreed to in writing, software\n",
              "// distributed under the License is distributed on an \"AS IS\" BASIS,\n",
              "// WITHOUT WARRANTIES OR CONDITIONS OF ANY KIND, either express or implied.\n",
              "// See the License for the specific language governing permissions and\n",
              "// limitations under the License.\n",
              "\n",
              "/**\n",
              " * @fileoverview Helpers for google.colab Python module.\n",
              " */\n",
              "(function(scope) {\n",
              "function span(text, styleAttributes = {}) {\n",
              "  const element = document.createElement('span');\n",
              "  element.textContent = text;\n",
              "  for (const key of Object.keys(styleAttributes)) {\n",
              "    element.style[key] = styleAttributes[key];\n",
              "  }\n",
              "  return element;\n",
              "}\n",
              "\n",
              "// Max number of bytes which will be uploaded at a time.\n",
              "const MAX_PAYLOAD_SIZE = 100 * 1024;\n",
              "\n",
              "function _uploadFiles(inputId, outputId) {\n",
              "  const steps = uploadFilesStep(inputId, outputId);\n",
              "  const outputElement = document.getElementById(outputId);\n",
              "  // Cache steps on the outputElement to make it available for the next call\n",
              "  // to uploadFilesContinue from Python.\n",
              "  outputElement.steps = steps;\n",
              "\n",
              "  return _uploadFilesContinue(outputId);\n",
              "}\n",
              "\n",
              "// This is roughly an async generator (not supported in the browser yet),\n",
              "// where there are multiple asynchronous steps and the Python side is going\n",
              "// to poll for completion of each step.\n",
              "// This uses a Promise to block the python side on completion of each step,\n",
              "// then passes the result of the previous step as the input to the next step.\n",
              "function _uploadFilesContinue(outputId) {\n",
              "  const outputElement = document.getElementById(outputId);\n",
              "  const steps = outputElement.steps;\n",
              "\n",
              "  const next = steps.next(outputElement.lastPromiseValue);\n",
              "  return Promise.resolve(next.value.promise).then((value) => {\n",
              "    // Cache the last promise value to make it available to the next\n",
              "    // step of the generator.\n",
              "    outputElement.lastPromiseValue = value;\n",
              "    return next.value.response;\n",
              "  });\n",
              "}\n",
              "\n",
              "/**\n",
              " * Generator function which is called between each async step of the upload\n",
              " * process.\n",
              " * @param {string} inputId Element ID of the input file picker element.\n",
              " * @param {string} outputId Element ID of the output display.\n",
              " * @return {!Iterable<!Object>} Iterable of next steps.\n",
              " */\n",
              "function* uploadFilesStep(inputId, outputId) {\n",
              "  const inputElement = document.getElementById(inputId);\n",
              "  inputElement.disabled = false;\n",
              "\n",
              "  const outputElement = document.getElementById(outputId);\n",
              "  outputElement.innerHTML = '';\n",
              "\n",
              "  const pickedPromise = new Promise((resolve) => {\n",
              "    inputElement.addEventListener('change', (e) => {\n",
              "      resolve(e.target.files);\n",
              "    });\n",
              "  });\n",
              "\n",
              "  const cancel = document.createElement('button');\n",
              "  inputElement.parentElement.appendChild(cancel);\n",
              "  cancel.textContent = 'Cancel upload';\n",
              "  const cancelPromise = new Promise((resolve) => {\n",
              "    cancel.onclick = () => {\n",
              "      resolve(null);\n",
              "    };\n",
              "  });\n",
              "\n",
              "  // Wait for the user to pick the files.\n",
              "  const files = yield {\n",
              "    promise: Promise.race([pickedPromise, cancelPromise]),\n",
              "    response: {\n",
              "      action: 'starting',\n",
              "    }\n",
              "  };\n",
              "\n",
              "  cancel.remove();\n",
              "\n",
              "  // Disable the input element since further picks are not allowed.\n",
              "  inputElement.disabled = true;\n",
              "\n",
              "  if (!files) {\n",
              "    return {\n",
              "      response: {\n",
              "        action: 'complete',\n",
              "      }\n",
              "    };\n",
              "  }\n",
              "\n",
              "  for (const file of files) {\n",
              "    const li = document.createElement('li');\n",
              "    li.append(span(file.name, {fontWeight: 'bold'}));\n",
              "    li.append(span(\n",
              "        `(${file.type || 'n/a'}) - ${file.size} bytes, ` +\n",
              "        `last modified: ${\n",
              "            file.lastModifiedDate ? file.lastModifiedDate.toLocaleDateString() :\n",
              "                                    'n/a'} - `));\n",
              "    const percent = span('0% done');\n",
              "    li.appendChild(percent);\n",
              "\n",
              "    outputElement.appendChild(li);\n",
              "\n",
              "    const fileDataPromise = new Promise((resolve) => {\n",
              "      const reader = new FileReader();\n",
              "      reader.onload = (e) => {\n",
              "        resolve(e.target.result);\n",
              "      };\n",
              "      reader.readAsArrayBuffer(file);\n",
              "    });\n",
              "    // Wait for the data to be ready.\n",
              "    let fileData = yield {\n",
              "      promise: fileDataPromise,\n",
              "      response: {\n",
              "        action: 'continue',\n",
              "      }\n",
              "    };\n",
              "\n",
              "    // Use a chunked sending to avoid message size limits. See b/62115660.\n",
              "    let position = 0;\n",
              "    do {\n",
              "      const length = Math.min(fileData.byteLength - position, MAX_PAYLOAD_SIZE);\n",
              "      const chunk = new Uint8Array(fileData, position, length);\n",
              "      position += length;\n",
              "\n",
              "      const base64 = btoa(String.fromCharCode.apply(null, chunk));\n",
              "      yield {\n",
              "        response: {\n",
              "          action: 'append',\n",
              "          file: file.name,\n",
              "          data: base64,\n",
              "        },\n",
              "      };\n",
              "\n",
              "      let percentDone = fileData.byteLength === 0 ?\n",
              "          100 :\n",
              "          Math.round((position / fileData.byteLength) * 100);\n",
              "      percent.textContent = `${percentDone}% done`;\n",
              "\n",
              "    } while (position < fileData.byteLength);\n",
              "  }\n",
              "\n",
              "  // All done.\n",
              "  yield {\n",
              "    response: {\n",
              "      action: 'complete',\n",
              "    }\n",
              "  };\n",
              "}\n",
              "\n",
              "scope.google = scope.google || {};\n",
              "scope.google.colab = scope.google.colab || {};\n",
              "scope.google.colab._files = {\n",
              "  _uploadFiles,\n",
              "  _uploadFilesContinue,\n",
              "};\n",
              "})(self);\n",
              "</script> "
            ]
          },
          "metadata": {}
        }
      ]
    },
    {
      "cell_type": "markdown",
      "metadata": {
        "id": "9ls4EeVnOX_P"
      },
      "source": [
        "## Define the heplper functions\n",
        "\n",
        "In this section you will find some helper functions (some already implemented, some to be implemented by you) that will be used in the following sections.\n",
        "1. `img_plot` -> function to plot an image with name and dimension as title,\n",
        "2. `scatter_plot` -> function to plot a scatter plot of the data,\n",
        "3. `scatter_plot_2d` -> function to plot a 2D scatter plot of the data,\n",
        "4. `error_plot` -> function to plot the error of the k-means algorithm over the iterations,\n",
        "5. `cluster_plot` -> function to plot the obtained clusters.\n",
        "\n",
        "**DO NOT CHANGE THE PRE-WRITTEN CODE UNLESS OTHERWISE SPECIFIED**"
      ]
    },
    {
      "cell_type": "code",
      "execution_count": null,
      "metadata": {
        "id": "_6emnto-OX_Q"
      },
      "outputs": [],
      "source": [
        "def img_plot(img: np.ndarray, title: str = None) -> None:\n",
        "    \"\"\"\n",
        "    Plot an image\n",
        "    :param img: image to plot\n",
        "    :param title: title of the plot\n",
        "    \"\"\"\n",
        "\n",
        "    plt.figure()\n",
        "    plt.imshow(img)\n",
        "    plt.axis('off')\n",
        "    if title is not None:\n",
        "        plt.title(f'{title}: {img.shape}')\n",
        "    plt.tight_layout()\n",
        "    plt.show()\n",
        "    plt.close()"
      ]
    },
    {
      "cell_type": "code",
      "execution_count": null,
      "metadata": {
        "id": "3UFBPGPgOX_T"
      },
      "outputs": [],
      "source": [
        "def scatter_plot(data: np.ndarray, clusters: np.ndarray = None, centers: np.ndarray = None, title: str = None) -> None:\n",
        "    \"\"\"\n",
        "    Plot a scatter plot of the data\n",
        "    :param data: data to plot\n",
        "    :param clusters: cluster labels\n",
        "    :param centers: cluster centers\n",
        "    :param title: title of the plot\n",
        "    \"\"\"\n",
        "\n",
        "    fig = plt.figure()\n",
        "    axis = fig.add_subplot(1, 1, 1, projection=\"3d\")\n",
        "    axis.set_xlabel(\"Red\")\n",
        "    axis.set_ylabel(\"Green\")\n",
        "    axis.set_zlabel(\"Blue\", rotation=90, labelpad=-1)\n",
        "    if title is not None:\n",
        "        plt.title(title)\n",
        "    if clusters is None:\n",
        "        axis.scatter(data[:,0], data[:,1], data[:,2], marker=\"o\", c=data, s=5)\n",
        "    else:\n",
        "        axis.scatter(data[:,0], data[:,1], data[:,2], marker=\"o\", c=clusters, s=1, cmap='viridis', zorder=0, alpha=0.5 )\n",
        "    if centers is not None:\n",
        "        axis.scatter(centers[:,0], centers[:,1], centers[:,2], c='red', s=400, zorder=10)\n",
        "    plt.tight_layout()\n",
        "    plt.show()\n",
        "    plt.close()"
      ]
    },
    {
      "cell_type": "code",
      "execution_count": null,
      "metadata": {
        "id": "2S7CscyjOX_X"
      },
      "outputs": [],
      "source": [
        "def scatter_plot_2d(x: np.ndarray, y: np.ndarray = None, centers: np.ndarray = None, title: str = None) -> None:\n",
        "    \"\"\"\n",
        "    Plot a scatter plot of the data\n",
        "    :param x: data to plot\n",
        "    :param y: cluster labels\n",
        "    :param centers: cluster centers\n",
        "    :param title: title of the plot\n",
        "    \"\"\"\n",
        "\n",
        "    fig = plt.figure()\n",
        "    plt.scatter(x[:,0], x[:,1], c=y, marker=\"o\", s=10, cmap='viridis')\n",
        "    plt.scatter(centers[:,0], centers[:,1], c='black', s=200, alpha=0.5)\n",
        "    if title is not None:\n",
        "        plt.title(title)\n",
        "    plt.tight_layout()\n",
        "    plt.show()\n",
        "    plt.close()"
      ]
    },
    {
      "cell_type": "code",
      "execution_count": null,
      "metadata": {
        "id": "go0hQZBrOX_c"
      },
      "outputs": [],
      "source": [
        "def error_plot(errors: np.ndarray, labels: np.ndarray = None) -> None:\n",
        "    \"\"\"\n",
        "    Plot the errors over the iterations\n",
        "    :param errors: errors to plot\n",
        "    \"\"\"\n",
        "\n",
        "    if labels is None:\n",
        "        plt.plot(errors[1:-1])\n",
        "        plt.plot(errors[1:-1], 'ro')\n",
        "    else:\n",
        "        plt.plot(labels, errors)\n",
        "        plt.plot(labels, errors, 'ro')\n",
        "    plt.title('Error over iterations')\n",
        "    plt.ylabel('Error')\n",
        "    plt.xlabel('Iteration #')\n",
        "    plt.grid()\n",
        "    plt.tight_layout()\n",
        "    plt.show()\n",
        "    plt.close()"
      ]
    },
    {
      "cell_type": "code",
      "execution_count": null,
      "metadata": {
        "id": "0wTykagTOX_f"
      },
      "outputs": [],
      "source": [
        "def cluster_plot(labels: np.ndarray, x: np.ndarray, title: str = None) -> None:\n",
        "    \"\"\"\n",
        "    Plot the clusters\n",
        "    :param labels: cluster labels\n",
        "    :param x: data\n",
        "    :param title: title of the plot\n",
        "    \"\"\"\n",
        "\n",
        "    # Black removed and is used for noise instead.\n",
        "    unique_labels = set(labels)\n",
        "    colors = [plt.cm.Spectral(each)\n",
        "            for each in np.linspace(0, 1, len(unique_labels))]\n",
        "    for k, col in zip(unique_labels, colors):\n",
        "        if k == -1:\n",
        "            # Black used for noise.\n",
        "            col = [0, 0, 0, 1]\n",
        "\n",
        "        class_member_mask = (labels == k)\n",
        "\n",
        "        xy = x[class_member_mask ]\n",
        "        plt.plot(xy[:, 0], xy[:, 1], 'o', markerfacecolor=tuple(col),\n",
        "                markeredgecolor='k', markersize=14)\n",
        "\n",
        "        xy = x[class_member_mask ]\n",
        "        plt.plot(xy[:, 0], xy[:, 1], 'o', markerfacecolor=tuple(col),\n",
        "                markeredgecolor='k', markersize=6)\n",
        "\n",
        "    if title is not None:\n",
        "        plt.title(title)\n",
        "    plt.tight_layout()\n",
        "    plt.show()"
      ]
    },
    {
      "cell_type": "markdown",
      "metadata": {
        "id": "RjdqWtM9OX_i"
      },
      "source": [
        "---"
      ]
    },
    {
      "cell_type": "markdown",
      "metadata": {
        "id": "jnnsb26FOX_j"
      },
      "source": [
        "## A) K-means clustering\n",
        "\n",
        "Implement the K-means algorithm"
      ]
    },
    {
      "cell_type": "code",
      "execution_count": null,
      "metadata": {
        "id": "DFWomBM8OX_k"
      },
      "outputs": [],
      "source": [
        "# Load the provided image and display it (if you like you can experiment with other images)\n",
        "# To load the images use the function plt.imread(<path_to_iamge>)\n",
        "santa = plt.imread(\"data/santaclaus2.jpg\")\n",
        "\n",
        "# Plot the image with its shape\n",
        "img_plot(santa)\n",
        "print(santa.shape)"
      ]
    },
    {
      "cell_type": "code",
      "execution_count": null,
      "metadata": {
        "id": "HtcC03dmOX_m"
      },
      "outputs": [],
      "source": [
        "# Reshape the data to a matrix of num_pixels x 3\n",
        "# (divide by 255 to have colors in [0 1] range for plotting functions of sklearn)\n",
        "santa_reshaped = np.reshape(santa, (santa.shape[0]*santa.shape[1],santa.shape[2]))\n",
        "santa_reshaped = santa_reshaped /255\n",
        "\n",
        "# Print the shape of the data and the min and max values of the pixels\n",
        "print(\"shape:\",santa_reshaped.shape, \"min:\", np.min(santa_reshaped),\"max:\", np.max(santa_reshaped))"
      ]
    },
    {
      "cell_type": "markdown",
      "metadata": {
        "id": "kmD4DsUaOX_o"
      },
      "source": [
        "Plot the points in the 3-dimensional space with normalized intervals between 0 and 1 (corresponding to the three channels of the image, i.e. Red Green and Blue)"
      ]
    },
    {
      "cell_type": "code",
      "execution_count": null,
      "metadata": {
        "id": "68i6gZxZOX_q"
      },
      "outputs": [],
      "source": [
        "# Sugestion: use the function scatter_plot()\n",
        "scatter_plot(santa_reshaped)"
      ]
    },
    {
      "cell_type": "markdown",
      "metadata": {
        "id": "HYGTBKCJOX_q"
      },
      "source": [
        "Implement the k-means algorithm manually (**do not use the kmeans function of sklearn and do not download implementations from other web sources**). The inputs to the function is the set of vectors to be clustered and the number of clusters. The output must contain the clusters barycenters, a vector associating each data point to the corresponding cluster and the error (value of the cost function) at each iteration.\n",
        "Additionally, fix a maximum number of iterations of the k-means algorithm (e.g., 50).\n",
        "\n",
        "Be careful about the initalization, you can use some random points from the training set, or get random values but ensure they are in the proper range. Poor initalizations can lead to the failure of the algorithm (in particular check that no cluster is initialized as empty, otherwise the algorithm can not update it)."
      ]
    },
    {
      "cell_type": "code",
      "execution_count": null,
      "metadata": {
        "id": "xkZ-ILjQOX_s"
      },
      "outputs": [],
      "source": [
        "def kmeans(points: np.ndarray, k: int, max_iters: int = 50) -> tp.Tuple[np.ndarray, np.ndarray, list]:\n",
        "    \"\"\"\n",
        "    Perform K-means clustering\n",
        "    :param points: data points\n",
        "    :param k: number of clusters\n",
        "    :param max_iters: maximum number of iterations\n",
        "    \"\"\"\n",
        "\n",
        "    # TODOGenerate random centroids\n",
        "    # Hint: Use the correct means and standard deviation to ensure they represent the whole input space\n",
        "    point_count = points.shape[0]\n",
        "    coord_count = points.shape[1]\n",
        "\n",
        "    clusters = np.ndarray((point_count,))\n",
        "\n",
        "    prev_error = 1e9+1\n",
        "    error = [1e9]\n",
        "\n",
        "    # Run the K-means algorithm: until the estimate of centroid is stable (or the maximum number of iterations is reached)\n",
        "    iters = 0\n",
        "    while (error[iters] != prev_error) and iters < max_iters:\n",
        "        # TODO Measure the distance to every centroid\n",
        "        # TODO Step 1: assign training data to closest centroid\n",
        "\n",
        "        # TODO Calculate the new centroids for every cluster\n",
        "\n",
        "        prev_error = error[iters]\n",
        "        current_error = 0\n",
        "        # TODO Update the total cost estimate\n",
        "        error.append(current_error)\n",
        "\n",
        "        # Update the iteration counter\n",
        "        iters += 1\n",
        "\n",
        "    return centroids, clusters, error"
      ]
    },
    {
      "cell_type": "markdown",
      "metadata": {
        "id": "WjwJeKgCOX_t"
      },
      "source": [
        "Now try the function you developed on the Santaclaus image with three clusters (k=3), then plot the data points in the 3-dimensional space, each point must be coloured based on the membership to one of the clusters. Additionally, plot the respective clusters centroids (use a different shape, size or color to highlight the centroids). Also, plot the total cost over each iteration"
      ]
    },
    {
      "cell_type": "code",
      "execution_count": null,
      "metadata": {
        "id": "aIzgzKsEOX_u"
      },
      "outputs": [],
      "source": [
        "# Run your K-means function on the data\n",
        "kmeans_centroids, kmeans_clusters, kmeans_errors = kmeans(santa_reshaped, k=3)\n",
        "\n",
        "# Print the errors:\n",
        "print(kmeans_errors)\n",
        "\n",
        "# Plot the results\n",
        "scatter_plot(santa_reshaped, kmeans_clusters, kmeans_centroids)\n",
        "\n",
        "# Plot the error\n",
        "error_plot(kmeans_errors)"
      ]
    },
    {
      "cell_type": "markdown",
      "metadata": {
        "id": "Hp0mmN5_OX_v"
      },
      "source": [
        "Now use the k-means function provided in sklearn. Pass to the function the number of clusters and use multiple random initializations (n_init parameter). Go to the documentation page for further details"
      ]
    },
    {
      "cell_type": "code",
      "execution_count": null,
      "metadata": {
        "id": "41Tdv-6_OX_x"
      },
      "outputs": [],
      "source": [
        "# Define the K-means model\n",
        "km = KMeans(n_clusters=3,n_init=100)\n",
        "\n",
        "# Fit the model to the data\n",
        "santa_predicted = km.fit_predict(santa_reshaped)\n",
        "santa_reshaped_compressed = np.copy(santa_reshaped)\n",
        "for i in range(santa_reshaped_compressed.shape[0]):\n",
        "    santa_reshaped_compressed[i]=km.cluster_centers_[santa_predicted[i]]\n",
        "\n",
        "# Get the cluster centers\n",
        "centers = km.cluster_centers_"
      ]
    },
    {
      "cell_type": "markdown",
      "metadata": {
        "tags": [],
        "id": "8if6BdNLOX_y"
      },
      "source": [
        "Perform the same plot as above but with the output of the k-means function provided in sklearn."
      ]
    },
    {
      "cell_type": "code",
      "execution_count": null,
      "metadata": {
        "id": "ed09Tv7XOX_y"
      },
      "outputs": [],
      "source": [
        "scatter_plot(santa_reshaped, santa_predicted, centers)"
      ]
    },
    {
      "cell_type": "markdown",
      "metadata": {
        "id": "YK7gFEC1OX_0"
      },
      "source": [
        "### TO DO [Answer the following]\n",
        "\n",
        "Compare the results obtained with your implementation and with k-means from sklearn. Do you observe any differences, *i.e.*, do the two plots match?"
      ]
    },
    {
      "cell_type": "markdown",
      "metadata": {
        "id": "4Xot9l08OX_1"
      },
      "source": [
        "**ANSWER:**"
      ]
    },
    {
      "cell_type": "markdown",
      "metadata": {
        "id": "Qt-anEmdOX_2"
      },
      "source": [
        "Now display the segmented image based on the clusters found above with the k-means functions by sklearn and by your own K-means implementation."
      ]
    },
    {
      "cell_type": "code",
      "execution_count": null,
      "metadata": {
        "id": "dSYLANc0OX_3"
      },
      "outputs": [],
      "source": [
        "# Extract the color values of the centers\n",
        "color_centers = centers*255\n",
        "\n",
        "# Reshape the data to the original image shape\n",
        "santa_processed = np.reshape(santa_reshaped_compressed, santa.shape)\n",
        "\n",
        "# Plot the recolored image\n",
        "img_plot(santa_processed)\n",
        "\n",
        "# Extract the color values of the centers\n",
        "kmeans_color_centers = kmeans_centroids*255\n",
        "\n",
        "# Reshape the data to the original image shape\n",
        "kmeans_santa_reshaped_compressed = np.copy(santa_reshaped)\n",
        "for i in range(kmeans_santa_reshaped_compressed.shape[0]):\n",
        "    kmeans_santa_reshaped_compressed[i]=kmeans_centroids[int(kmeans_clusters[i])]\n",
        "kmeans_santa_processed = np.reshape(kmeans_santa_reshaped_compressed, santa.shape)\n",
        "\n",
        "# Plot the recolored image\n",
        "img_plot(kmeans_santa_processed)"
      ]
    },
    {
      "cell_type": "markdown",
      "metadata": {
        "id": "goX0glFCOX_4"
      },
      "source": [
        "## B) DBSCAN clustering\n",
        "\n",
        "Now, let's try DBSCAN: implement the algorithm with $\\varepsilon=0.1$ and $M=10$ (i.e., the minimum number of neighbors). The output should be a list of indices for all points, indicating which cluster each point belongs to. Outliers are in cluster 0, all other points have a positive index. For efficiency, we should compute a distance matrix first. Additionally, since DBSCAN is much more complex, we will try it on a smaller dataset"
      ]
    },
    {
      "cell_type": "code",
      "execution_count": null,
      "metadata": {
        "id": "_WBKQeIqOX_6"
      },
      "outputs": [],
      "source": [
        "# Load sample data\n",
        "data = np.load(\"data/moon_data.npz\")\n",
        "\n",
        "# Extract data\n",
        "x = data['X']\n",
        "print(x)\n",
        "labels_true = data['labels_true']"
      ]
    },
    {
      "cell_type": "code",
      "execution_count": null,
      "metadata": {
        "id": "sQ5CSXwsOX_7"
      },
      "outputs": [],
      "source": [
        "def distance_matrix(points):\n",
        "    point_count = points.shape[0]\n",
        "    distances = np.zeros((point_count, point_count))\n",
        "    for i in range(point_count):\n",
        "        array_points = np.asarray(points - points[i, :])\n",
        "        distances[i, :] = np.linalg.norm(array_points,axis=1)\n",
        "        distances[i,i] = 1e9\n",
        "    return distances\n",
        "\n",
        "\n",
        "def find_neighbors(distances, epsilon):\n",
        "    return np.where(distances < epsilon)[0]\n",
        "\n",
        "\n",
        "def dbscan(points, epsilon, M):\n",
        "    point_count = points.shape[0]\n",
        "    coord_count = points.shape[1]\n",
        "    distances = distance_matrix(points)\n",
        "    print(point_count)\n",
        "    C = 0\n",
        "    done = False\n",
        "    # The clusters vector contains the assigned cluster values: -1 means unassigned, 0 means outlier, clusters have >=1 values\n",
        "    clusters = -np.ones(point_count)\n",
        "    while (not done):\n",
        "        # TODO While there are still unassigned points, iterate over them\n",
        "        # For each unassigned point, check if it is an outlier, expand over its neighbors if it is not\n",
        "    return clusters"
      ]
    },
    {
      "cell_type": "markdown",
      "metadata": {
        "id": "DQcE8tzzOX_9"
      },
      "source": [
        "Let's try and plot it! Noise points will be in red. How do the clusters look like?"
      ]
    },
    {
      "cell_type": "code",
      "execution_count": null,
      "metadata": {
        "id": "sserp-b4OX_-"
      },
      "outputs": [],
      "source": [
        "clusters = dbscan(x, epsilon=0.1, M=10)\n",
        "cluster_plot(clusters,x)"
      ]
    },
    {
      "cell_type": "markdown",
      "metadata": {
        "id": "yuPgCOCiOYAA"
      },
      "source": [
        "---"
      ]
    }
  ],
  "metadata": {
    "kernelspec": {
      "display_name": "Python 3 (ipykernel)",
      "language": "python",
      "name": "python3"
    },
    "language_info": {
      "codemirror_mode": {
        "name": "ipython",
        "version": 3
      },
      "file_extension": ".py",
      "mimetype": "text/x-python",
      "name": "python",
      "nbconvert_exporter": "python",
      "pygments_lexer": "ipython3",
      "version": "3.11.7"
    },
    "colab": {
      "provenance": []
    }
  },
  "nbformat": 4,
  "nbformat_minor": 0
}